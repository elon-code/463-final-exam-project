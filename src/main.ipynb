{
 "cells": [
  {
   "cell_type": "code",
   "execution_count": 17,
   "metadata": {},
   "outputs": [],
   "source": [
    "#dependencies\n",
    "from pint import UnitRegistry\n",
    "import numpy as np\n",
    "\n",
    "#unit setup\n",
    "ureg = UnitRegistry()\n",
    "m = ureg.meter\n",
    "g = ureg.gram\n",
    "s = ureg.second\n",
    "rpm = ureg.rpm\n",
    "W = ureg.watt\n",
    "N = ureg.newton\n",
    "degC = ureg.degC\n",
    "rho_air = ureg.atm\n",
    "#variable array setup\n",
    "speed = ureg.Quantity(np.array([1500, 2000, 2500, 3000, 3500, 4000]), rpm)\n",
    "torque = ureg.Quantity(np.array([1.8, 1.8, 1.8, 1.8, 1.8, 1.8]), N * m)\n",
    "power_shaft = ureg.Quantity(np.array([None, None, None, None, None, None]), W)\n",
    "power_input = ureg.Quantity(np.array([5.55E-05, 5.64E-05, 6.83E-05, 8.26E-05, 0.000104, 0.000118]), W)\n",
    "efficiency = np.array([None, None, None, None, None, None])\n",
    "MEP = ureg.Quantity(np.array([247, 247, 247, 291, 330, 350]), N / m**2)\n",
    "bsfc = ureg.Quantity(np.array([None, None, None, None, None, None]), g / (W * s))\n",
    "exhaust_heat = ureg.Quantity(np.array([None, None, None, None, None, None]), W)\n",
    "fins_heat = ureg.Quantity(np.array([None, None, None, None, None, None]), W)\n",
    "air_mass_flow = ureg.Quantity(np.array([None, None, None, None, None, None]), g / s)\n",
    "fuel_mass_flow = ureg.Quantity(np.array([None, None, None, None, None, None]), g / s)\n",
    "deltaT = ureg.Quantity(np.array([None, None, None, None, None, None]), ureg.delta_degC)"
   ]
  },
  {
   "cell_type": "code",
   "execution_count": 18,
   "metadata": {},
   "outputs": [
    {
     "name": "stdout",
     "output_type": "stream",
     "text": [
      "[0.0125     0.01666667 0.02083333 0.025      0.02916667 0.03333333] meter * revolutions_per_minute * standard_atmosphere\n"
     ]
    }
   ],
   "source": [
    "\n",
    "D = 10e-4 * m # displacement of the engine\n",
    "N = speed #engine speed in rotations per minute\n",
    "mdot_air = (rho_air * D * N) / 120 # 120 is product of 2 and 60, a constant for four stroke engines\n",
    "print(mdot_air)\n"
   ]
  }
 ],
 "metadata": {
  "kernelspec": {
   "display_name": "engrcalc",
   "language": "python",
   "name": "python3"
  },
  "language_info": {
   "codemirror_mode": {
    "name": "ipython",
    "version": 3
   },
   "file_extension": ".py",
   "mimetype": "text/x-python",
   "name": "python",
   "nbconvert_exporter": "python",
   "pygments_lexer": "ipython3",
   "version": "3.10.6"
  },
  "orig_nbformat": 4
 },
 "nbformat": 4,
 "nbformat_minor": 2
}
