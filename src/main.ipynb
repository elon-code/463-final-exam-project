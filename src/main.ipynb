{
 "cells": [
  {
   "cell_type": "code",
   "execution_count": 8,
   "metadata": {},
   "outputs": [],
   "source": [
    "#dependencies\n",
    "from pint import UnitRegistry\n",
    "import numpy as np\n",
    "\n",
    "#unit setup\n",
    "ureg = UnitRegistry()\n",
    "m = ureg.meter\n",
    "g = ureg.gram\n",
    "s = ureg.second\n",
    "rpm = ureg.rpm\n",
    "N = ureg.newton\n",
    "rho_air = ureg.atm\n",
    "#variable array setup\n",
    "speed = [1500, 2000, 2500, 3000, 3500, 4000]\n",
    "torque = [1.8, 1.8, 1.8, 1.8, 1.8, 1.8]\n",
    "power_shaft = [None, None, None, None, None, None] # not provided in the given table\n",
    "power_input = [5.55E-05, 5.64E-05, 6.83E-05, 8.26E-05, 0.000104, 0.000118]\n",
    "efficiency = [None, None, None, None, None, None] # not provided in the given table\n",
    "MEP = [247, 247, 247, 291, 330, 350]\n",
    "bsfc = [None, None, None, None, None, None] # not provided in the given table\n",
    "exhaust_heat = [None, None, None, None, None, None] # not provided in the given table\n",
    "fins_heat = [None, None, None, None, None, None] # not provided in the given table\n",
    "air_mass_flow = [None, None, None, None, None, None] # not provided in the given table\n",
    "fuel_mass_flow = [None, None, None, None, None, None] # not provided in the given table\n",
    "deltaT = [None, None, None, None, None, None] # not provided in the given table"
   ]
  },
  {
   "cell_type": "code",
   "execution_count": 9,
   "metadata": {},
   "outputs": [
    {
     "ename": "TypeError",
     "evalue": "can't multiply sequence by non-int of type 'Quantity'",
     "output_type": "error",
     "traceback": [
      "\u001b[1;31m---------------------------------------------------------------------------\u001b[0m",
      "\u001b[1;31mTypeError\u001b[0m                                 Traceback (most recent call last)",
      "Cell \u001b[1;32mIn[9], line 2\u001b[0m\n\u001b[0;32m      1\u001b[0m D \u001b[39m=\u001b[39m \u001b[39m10e-4\u001b[39m \u001b[39m*\u001b[39m m \u001b[39m# displacement of the engine\u001b[39;00m\n\u001b[1;32m----> 2\u001b[0m N \u001b[39m=\u001b[39m speed \u001b[39m*\u001b[39;49m rpm \u001b[39m#engine speed in rotations per minute\u001b[39;00m\n\u001b[0;32m      3\u001b[0m mdot_air \u001b[39m=\u001b[39m (rho_air \u001b[39m*\u001b[39m D \u001b[39m*\u001b[39m N) \u001b[39m/\u001b[39m \u001b[39m120\u001b[39m \u001b[39m# 120 is product of 2 and 60, a constant for four stroke engines\u001b[39;00m\n",
      "File \u001b[1;32mc:\\Users\\egm-desktop\\Desktop\\Github repos\\463 final exam project\\engrcalc\\lib\\site-packages\\pint\\facets\\plain\\unit.py:147\u001b[0m, in \u001b[0;36mPlainUnit.__mul__\u001b[1;34m(self, other)\u001b[0m\n\u001b[0;32m    144\u001b[0m \u001b[39mif\u001b[39;00m \u001b[39misinstance\u001b[39m(other, Number) \u001b[39mand\u001b[39;00m other \u001b[39m==\u001b[39m \u001b[39m1\u001b[39m:\n\u001b[0;32m    145\u001b[0m     \u001b[39mreturn\u001b[39;00m \u001b[39mself\u001b[39m\u001b[39m.\u001b[39m_REGISTRY\u001b[39m.\u001b[39mQuantity(other, \u001b[39mself\u001b[39m\u001b[39m.\u001b[39m_units)\n\u001b[1;32m--> 147\u001b[0m \u001b[39mreturn\u001b[39;00m \u001b[39mself\u001b[39;49m\u001b[39m.\u001b[39;49m_REGISTRY\u001b[39m.\u001b[39;49mQuantity(\u001b[39m1\u001b[39;49m, \u001b[39mself\u001b[39;49m\u001b[39m.\u001b[39;49m_units) \u001b[39m*\u001b[39;49m other\n",
      "\u001b[1;31mTypeError\u001b[0m: can't multiply sequence by non-int of type 'Quantity'"
     ]
    }
   ],
   "source": [
    "\n",
    "D = 10e-4 * m # displacement of the engine\n",
    "N = speed * rpm #engine speed in rotations per minute\n",
    "mdot_air = (rho_air * D * N) / 120 # 120 is product of 2 and 60, a constant for four stroke engines\n"
   ]
  }
 ],
 "metadata": {
  "kernelspec": {
   "display_name": "engrcalc",
   "language": "python",
   "name": "python3"
  },
  "language_info": {
   "codemirror_mode": {
    "name": "ipython",
    "version": 3
   },
   "file_extension": ".py",
   "mimetype": "text/x-python",
   "name": "python",
   "nbconvert_exporter": "python",
   "pygments_lexer": "ipython3",
   "version": "3.10.6"
  },
  "orig_nbformat": 4
 },
 "nbformat": 4,
 "nbformat_minor": 2
}
