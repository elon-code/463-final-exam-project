{
 "cells": [
  {
   "cell_type": "code",
   "execution_count": 2,
   "metadata": {},
   "outputs": [
    {
     "name": "stderr",
     "output_type": "stream",
     "text": [
      "<>:14: SyntaxWarning: 'list' object is not callable; perhaps you missed a comma?\n",
      "<>:14: SyntaxWarning: 'list' object is not callable; perhaps you missed a comma?\n"
     ]
    },
    {
     "ename": "TypeError",
     "evalue": "can't multiply sequence by non-int of type 'Quantity'",
     "output_type": "error",
     "traceback": [
      "\u001b[1;31m---------------------------------------------------------------------------\u001b[0m",
      "\u001b[1;31mTypeError\u001b[0m                                 Traceback (most recent call last)",
      "Cell \u001b[1;32mIn[2], line 13\u001b[0m\n\u001b[0;32m     11\u001b[0m rho_air \u001b[39m=\u001b[39m ureg\u001b[39m.\u001b[39matm\n\u001b[0;32m     12\u001b[0m \u001b[39m#variable array setup\u001b[39;00m\n\u001b[1;32m---> 13\u001b[0m speed \u001b[39m=\u001b[39m [\u001b[39m1500\u001b[39;49m, \u001b[39m2000\u001b[39;49m, \u001b[39m2500\u001b[39;49m, \u001b[39m3000\u001b[39;49m, \u001b[39m3500\u001b[39;49m, \u001b[39m4000\u001b[39;49m] \u001b[39m*\u001b[39;49m rpm\n\u001b[0;32m     14\u001b[0m torque \u001b[39m=\u001b[39m [\u001b[39m1.8\u001b[39m, \u001b[39m1.8\u001b[39m, \u001b[39m1.8\u001b[39m, \u001b[39m1.8\u001b[39m, \u001b[39m1.8\u001b[39m, \u001b[39m1.8\u001b[39m] (N \u001b[39m*\u001b[39m m)\n\u001b[0;32m     15\u001b[0m power_shaft \u001b[39m=\u001b[39m [\u001b[39mNone\u001b[39;00m, \u001b[39mNone\u001b[39;00m, \u001b[39mNone\u001b[39;00m, \u001b[39mNone\u001b[39;00m, \u001b[39mNone\u001b[39;00m, \u001b[39mNone\u001b[39;00m] \u001b[39m# not provided in the given table\u001b[39;00m\n",
      "File \u001b[1;32mc:\\Users\\egm-desktop\\Desktop\\Github repos\\463 final exam project\\engrcalc\\lib\\site-packages\\pint\\facets\\plain\\unit.py:147\u001b[0m, in \u001b[0;36mPlainUnit.__mul__\u001b[1;34m(self, other)\u001b[0m\n\u001b[0;32m    144\u001b[0m \u001b[39mif\u001b[39;00m \u001b[39misinstance\u001b[39m(other, Number) \u001b[39mand\u001b[39;00m other \u001b[39m==\u001b[39m \u001b[39m1\u001b[39m:\n\u001b[0;32m    145\u001b[0m     \u001b[39mreturn\u001b[39;00m \u001b[39mself\u001b[39m\u001b[39m.\u001b[39m_REGISTRY\u001b[39m.\u001b[39mQuantity(other, \u001b[39mself\u001b[39m\u001b[39m.\u001b[39m_units)\n\u001b[1;32m--> 147\u001b[0m \u001b[39mreturn\u001b[39;00m \u001b[39mself\u001b[39;49m\u001b[39m.\u001b[39;49m_REGISTRY\u001b[39m.\u001b[39;49mQuantity(\u001b[39m1\u001b[39;49m, \u001b[39mself\u001b[39;49m\u001b[39m.\u001b[39;49m_units) \u001b[39m*\u001b[39;49m other\n",
      "\u001b[1;31mTypeError\u001b[0m: can't multiply sequence by non-int of type 'Quantity'"
     ]
    }
   ],
   "source": [
    "#dependencies\n",
    "from pint import UnitRegistry\n",
    "\n",
    "#unit setup\n",
    "ureg = UnitRegistry()\n",
    "m = ureg.meter\n",
    "g = ureg.gram\n",
    "s = ureg.second\n",
    "rpm = ureg.rpm\n",
    "N = ureg.newton\n",
    "rho_air = ureg.atm\n",
    "#variable array setup\n",
    "speed = [1500, 2000, 2500, 3000, 3500, 4000] * rpm\n",
    "torque = [1.8, 1.8, 1.8, 1.8, 1.8, 1.8] (N * m)\n",
    "power_shaft = [None, None, None, None, None, None] # not provided in the given table\n",
    "power_input = [5.55E-05, 5.64E-05, 6.83E-05, 8.26E-05, 0.000104, 0.000118]\n",
    "efficiency = [None, None, None, None, None, None] # not provided in the given table\n",
    "MEP = [247, 247, 247, 291, 330, 350]\n",
    "bsfc = [None, None, None, None, None, None] # not provided in the given table\n",
    "exhaust_heat = [None, None, None, None, None, None] # not provided in the given table\n",
    "fins_heat = [None, None, None, None, None, None] # not provided in the given table\n",
    "air_mass_flow = [None, None, None, None, None, None] # not provided in the given table\n",
    "fuel_mass_flow = [None, None, None, None, None, None] # not provided in the given table\n",
    "deltaT = [None, None, None, None, None, None] # not provided in the given table"
   ]
  },
  {
   "cell_type": "code",
   "execution_count": null,
   "metadata": {},
   "outputs": [],
   "source": [
    "\n",
    "D = 10e-4 * meter # displacement of the engine\n",
    "N = speed #engine speed in rotations per minute\n",
    "mdot_air = (rho_air * D * N) / 120 # 120 is product of 2 and 60, a constant for four stroke engines\n"
   ]
  }
 ],
 "metadata": {
  "kernelspec": {
   "display_name": "engrcalc",
   "language": "python",
   "name": "python3"
  },
  "language_info": {
   "codemirror_mode": {
    "name": "ipython",
    "version": 3
   },
   "file_extension": ".py",
   "mimetype": "text/x-python",
   "name": "python",
   "nbconvert_exporter": "python",
   "pygments_lexer": "ipython3",
   "version": "3.10.6"
  },
  "orig_nbformat": 4
 },
 "nbformat": 4,
 "nbformat_minor": 2
}
